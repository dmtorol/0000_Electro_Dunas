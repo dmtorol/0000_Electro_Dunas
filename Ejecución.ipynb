{
 "cells": [
  {
   "cell_type": "code",
   "execution_count": 1,
   "id": "2415f496",
   "metadata": {},
   "outputs": [],
   "source": [
    "import os\n",
    "from utils import procesar\n",
    "\n",
    "def listar_archivos(ruta):\n",
    "    archivos = os.listdir(ruta)\n",
    "    return archivos\n",
    "\n",
    "ruta = \"./data/\"\n",
    "lista_de_archivos = listar_archivos(ruta)"
   ]
  },
  {
   "cell_type": "code",
   "execution_count": 2,
   "id": "e93b604d",
   "metadata": {},
   "outputs": [],
   "source": [
    "variables = ['Active_energy', 'Reactive_energy', 'Voltaje_FA', 'Voltaje_FC']"
   ]
  },
  {
   "cell_type": "code",
   "execution_count": 3,
   "id": "dc6c78ce",
   "metadata": {},
   "outputs": [
    {
     "name": "stdout",
     "output_type": "stream",
     "text": [
      "Archivo enviado con éxito\n",
      "Archivo procesado con éxito\n",
      "./data/cliente_1_Active_energy.csv\n",
      "Fin del proceso\n"
     ]
    }
   ],
   "source": [
    "procesar(ruta, lista_de_archivos[0], variables[0])"
   ]
  },
  {
   "cell_type": "code",
   "execution_count": null,
   "id": "6fdcae21",
   "metadata": {},
   "outputs": [],
   "source": []
  }
 ],
 "metadata": {
  "kernelspec": {
   "display_name": "Python 3 (ipykernel)",
   "language": "python",
   "name": "python3"
  },
  "language_info": {
   "codemirror_mode": {
    "name": "ipython",
    "version": 3
   },
   "file_extension": ".py",
   "mimetype": "text/x-python",
   "name": "python",
   "nbconvert_exporter": "python",
   "pygments_lexer": "ipython3",
   "version": "3.10.9"
  }
 },
 "nbformat": 4,
 "nbformat_minor": 5
}
